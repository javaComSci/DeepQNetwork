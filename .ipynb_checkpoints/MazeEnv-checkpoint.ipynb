{
 "cells": [
  {
   "cell_type": "markdown",
   "metadata": {},
   "source": [
    "### Setup for the maze environment"
   ]
  },
  {
   "cell_type": "code",
   "execution_count": 4,
   "metadata": {},
   "outputs": [],
   "source": [
    "import numpy as np\n",
    "import random"
   ]
  },
  {
   "cell_type": "code",
   "execution_count": 3,
   "metadata": {},
   "outputs": [],
   "source": [
    "class Environment:\n",
    "    def __init__(self):\n",
    "        # create a maze\n",
    "        self.maze = np.zeros((10, 10))\n",
    "        \n",
    "        # dimensions of the maze\n",
    "        self.maze_width = 9\n",
    "        self.maze_height = 9\n",
    "        \n",
    "        # add the current (at the start at beginning) and end points\n",
    "        self.current_point = (0, 0)\n",
    "        self.end_point = (self.maze_height, self.maze_width)\n",
    "        \n",
    "        self.add_walls()\n",
    "    \n",
    "    # add the walls to the environment so that the agent cannot go through those\n",
    "    def add_walls(self):\n",
    "        pass\n",
    "    \n",
    "    # move the agent\n",
    "    def move(self, x, y, direction):\n",
    "        # agent cannot move if already at an edge\n",
    "        if direction == \"left\":\n",
    "            if x > 0:\n",
    "                x -= 1\n",
    "        elif direction == \"right\":\n",
    "            if x < self.maze_width - 1:\n",
    "                x += 1\n",
    "        elif direction == \"up\":\n",
    "            if y > 0:\n",
    "                y -= 1\n",
    "        elif direction == \"down\":\n",
    "            if y < self.maze_height - 1:\n",
    "                y += 1\n",
    "\n",
    "    # test out by making some random moves\n",
    "    def do_moves(self):\n",
    "        moves = []\n",
    "        for i in range(10):\n",
    "            r = random.rand()\n",
    "            if r < 0.25:\n",
    "                moves.append()\n",
    "                "
   ]
  }
 ],
 "metadata": {
  "kernelspec": {
   "display_name": "Python 3",
   "language": "python",
   "name": "python3"
  },
  "language_info": {
   "codemirror_mode": {
    "name": "ipython",
    "version": 3
   },
   "file_extension": ".py",
   "mimetype": "text/x-python",
   "name": "python",
   "nbconvert_exporter": "python",
   "pygments_lexer": "ipython3",
   "version": "3.7.3"
  }
 },
 "nbformat": 4,
 "nbformat_minor": 2
}
