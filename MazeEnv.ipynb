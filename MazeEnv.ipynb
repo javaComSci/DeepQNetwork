{
 "cells": [
  {
   "cell_type": "markdown",
   "metadata": {},
   "source": [
    "### Setup for the maze environment"
   ]
  },
  {
   "cell_type": "code",
   "execution_count": 12,
   "metadata": {},
   "outputs": [],
   "source": [
    "import numpy as np\n",
    "from random import random"
   ]
  },
  {
   "cell_type": "code",
   "execution_count": 51,
   "metadata": {},
   "outputs": [],
   "source": [
    "class Environment:\n",
    "    def __init__(self):\n",
    "        # create a maze\n",
    "        self.maze = np.zeros((10, 10))\n",
    "        \n",
    "        # dimensions of the maze\n",
    "        self.maze_width = 9\n",
    "        self.maze_height = 9\n",
    "        \n",
    "        # add the current (at the start at beginning) and end points\n",
    "        self.current_point_x = 0\n",
    "        self.current_point_y = 0\n",
    "        self.end_point_x = self.maze_height\n",
    "        self.end_point_y = self.maze_width\n",
    "        \n",
    "        self.add_walls()\n",
    "    \n",
    "    # add the walls to the environment so that the agent cannot go through those\n",
    "    def add_walls(self):\n",
    "        pass\n",
    "    \n",
    "    # move the agent\n",
    "    def move(self, direction):\n",
    "        # agent cannot move if already at an edge\n",
    "        if direction == \"left\":\n",
    "            if self.current_point_x > 0:\n",
    "                self.current_point_x -= 1\n",
    "        elif direction == \"right\":\n",
    "            if self.current_point_x < self.maze_width - 1:\n",
    "                self.current_point_x += 1\n",
    "        elif direction == \"up\":\n",
    "            if self.current_point_y > 0:\n",
    "                self.current_point_y -= 1\n",
    "        elif direction == \"down\":\n",
    "            if self.current_point_y < self.maze_height - 1:\n",
    "                self.current_point_y += 1\n",
    "\n",
    "    # test out by making some random moves\n",
    "    def do_moves(self):\n",
    "        moves = []\n",
    "        for i in range(10):\n",
    "            r = random()\n",
    "            if r < 0.25:\n",
    "                moves.append(\"left\")\n",
    "            elif r < 0.5:\n",
    "                moves.append(\"right\")\n",
    "            elif r < 0.75:\n",
    "                moves.append(\"up\")\n",
    "            else:\n",
    "                moves.append(\"down\")\n",
    "            self.move(moves[-1])\n",
    "            self.maze[self.current_point_y, self.current_point_x] = 1\n",
    "        \n",
    "        print(moves)\n",
    "        print(self.maze)\n",
    "                "
   ]
  },
  {
   "cell_type": "code",
   "execution_count": 52,
   "metadata": {},
   "outputs": [
    {
     "name": "stdout",
     "output_type": "stream",
     "text": [
      "['down', 'left', 'left', 'down', 'up', 'right', 'up', 'left', 'down', 'up']\n",
      "[[1. 1. 0. 0. 0. 0. 0. 0. 0. 0.]\n",
      " [1. 1. 0. 0. 0. 0. 0. 0. 0. 0.]\n",
      " [1. 0. 0. 0. 0. 0. 0. 0. 0. 0.]\n",
      " [0. 0. 0. 0. 0. 0. 0. 0. 0. 0.]\n",
      " [0. 0. 0. 0. 0. 0. 0. 0. 0. 0.]\n",
      " [0. 0. 0. 0. 0. 0. 0. 0. 0. 0.]\n",
      " [0. 0. 0. 0. 0. 0. 0. 0. 0. 0.]\n",
      " [0. 0. 0. 0. 0. 0. 0. 0. 0. 0.]\n",
      " [0. 0. 0. 0. 0. 0. 0. 0. 0. 0.]\n",
      " [0. 0. 0. 0. 0. 0. 0. 0. 0. 0.]]\n"
     ]
    }
   ],
   "source": [
    "env = Environment()\n",
    "env.do_moves()"
   ]
  },
  {
   "cell_type": "code",
   "execution_count": null,
   "metadata": {},
   "outputs": [],
   "source": []
  }
 ],
 "metadata": {
  "kernelspec": {
   "display_name": "Python 3",
   "language": "python",
   "name": "python3"
  },
  "language_info": {
   "codemirror_mode": {
    "name": "ipython",
    "version": 3
   },
   "file_extension": ".py",
   "mimetype": "text/x-python",
   "name": "python",
   "nbconvert_exporter": "python",
   "pygments_lexer": "ipython3",
   "version": "3.7.3"
  }
 },
 "nbformat": 4,
 "nbformat_minor": 2
}
