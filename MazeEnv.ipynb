{
 "cells": [
  {
   "cell_type": "markdown",
   "metadata": {},
   "source": [
    "### Setup for the maze environment"
   ]
  },
  {
   "cell_type": "code",
   "execution_count": 3,
   "metadata": {},
   "outputs": [],
   "source": [
    "import numpy as np\n",
    "from random import random\n",
    "import math"
   ]
  },
  {
   "cell_type": "code",
   "execution_count": 4,
   "metadata": {},
   "outputs": [],
   "source": [
    "action_to_num = {\"left\":0, \"right\":1, \"up\":2, \"down\":3}\n",
    "num_to_action = {0:\"left\", 1:\"right\", 2:\"up\", 3:\"down\"}\n",
    "    \n",
    "def select_move_from_num(r):\n",
    "    if r < 0.25:\n",
    "        return action_to_num[\"left\"]\n",
    "    elif r < 0.5:\n",
    "        return action_to_num[\"right\"]\n",
    "    elif r < 0.75:\n",
    "        return action_to_num[\"up\"]\n",
    "    else:\n",
    "        return action_to_num[\"down\"]"
   ]
  },
  {
   "cell_type": "code",
   "execution_count": 13,
   "metadata": {},
   "outputs": [],
   "source": [
    "class Environment:\n",
    "    \n",
    "    def __init__(self):\n",
    "        # dimensions of the maze\n",
    "        self.maze_width = 10\n",
    "        self.maze_height = 10\n",
    "        \n",
    "        # create a maze\n",
    "        self.maze = np.zeros((10, 10))\n",
    "        \n",
    "        # add the current (at the start at beginning) and end points\n",
    "        self.current_point_x = 1\n",
    "        self.current_point_y = 1\n",
    "#         self.end_point_x = self.maze_height - 1\n",
    "#         self.end_point_y = self.maze_width - 1\n",
    "        self.end_point_x = 4\n",
    "        self.end_point_y = 4\n",
    "    \n",
    "        self.add_walls()\n",
    "    \n",
    "    # add the walls to the environment so that the agent cannot go through those\n",
    "    def add_walls(self):\n",
    "        pass\n",
    "    \n",
    "    # get the reward for the most recent action performed\n",
    "    def get_reward(self):\n",
    "        # just manhattan distance for now\n",
    "        dist = abs(self.current_point_x - self.end_point_x) + abs(self.current_point_y - self.end_point_y)\n",
    "        if dist == 0:\n",
    "            return 1\n",
    "        \n",
    "        else:\n",
    "            return -0.05\n",
    "    \n",
    "    # determine whether the game is done\n",
    "    def is_done(self):\n",
    "        return self.current_point_x == self.end_point_x and self.current_point_y == self.end_point_y\n",
    "        \n",
    "    # move the agent\n",
    "    def move(self, direction):\n",
    "        # agent cannot move if already at an edge\n",
    "        if direction == action_to_num[\"left\"]:\n",
    "            if self.current_point_x > 0:\n",
    "                self.current_point_x -= 1\n",
    "            else:\n",
    "                return -0.8\n",
    "        elif direction == action_to_num[\"right\"]:\n",
    "            if self.current_point_x < self.maze_width - 1:\n",
    "                self.current_point_x += 1\n",
    "            else:\n",
    "                return -0.8\n",
    "        elif direction == action_to_num[\"up\"]:\n",
    "            if self.current_point_y > 0:\n",
    "                self.current_point_y -= 1\n",
    "            else:\n",
    "                return -0.8\n",
    "        elif direction == action_to_num[\"down\"]:\n",
    "            if self.current_point_y < self.maze_height - 1:\n",
    "                self.current_point_y += 1\n",
    "            else:\n",
    "                return -0.8\n",
    "        return self.get_reward()\n",
    "\n",
    "    # test out by making some random moves\n",
    "    def do_moves(self):\n",
    "        moves = []\n",
    "        for i in range(10):\n",
    "            r = random()\n",
    "            moves.append(select_move_from_num(r))\n",
    "            self.move(moves[-1])\n",
    "            self.maze[self.current_point_y, self.current_point_x] = 1\n",
    "            print(self.get_reward())\n",
    "        \n",
    "        print(moves)\n",
    "        print(self.maze)\n",
    "                "
   ]
  },
  {
   "cell_type": "code",
   "execution_count": 12,
   "metadata": {},
   "outputs": [],
   "source": [
    "env = Environment()\n",
    "# env.do_moves()"
   ]
  },
  {
   "cell_type": "code",
   "execution_count": null,
   "metadata": {},
   "outputs": [],
   "source": []
  }
 ],
 "metadata": {
  "kernelspec": {
   "display_name": "Python 3",
   "language": "python",
   "name": "python3"
  },
  "language_info": {
   "codemirror_mode": {
    "name": "ipython",
    "version": 3
   },
   "file_extension": ".py",
   "mimetype": "text/x-python",
   "name": "python",
   "nbconvert_exporter": "python",
   "pygments_lexer": "ipython3",
   "version": "3.8.3"
  }
 },
 "nbformat": 4,
 "nbformat_minor": 2
}
